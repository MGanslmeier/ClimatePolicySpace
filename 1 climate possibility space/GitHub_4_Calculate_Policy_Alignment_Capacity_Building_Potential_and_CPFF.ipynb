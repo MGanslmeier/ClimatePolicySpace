{
 "cells": [
  {
   "cell_type": "code",
   "execution_count": 1,
   "id": "d1e38b31",
   "metadata": {},
   "outputs": [
    {
     "data": {
      "text/html": [
       "<style>.container { width:100% !important; }</style>"
      ],
      "text/plain": [
       "<IPython.core.display.HTML object>"
      ]
     },
     "metadata": {},
     "output_type": "display_data"
    }
   ],
   "source": [
    "import numpy as np\n",
    "import pandas as pd\n",
    "import csv\n",
    "import matplotlib\n",
    "import matplotlib.pylab as pl\n",
    "import matplotlib.pyplot as plt\n",
    "from matplotlib.ticker import StrMethodFormatter\n",
    "import scipy.stats as sst\n",
    "\n",
    "%matplotlib inline\n",
    "pd.options.display.max_rows = 500\n",
    "pd.options.display.max_columns = 400\n",
    "from IPython.display import display, HTML\n",
    "display(HTML(\"<style>.container { width:100% !important; }</style>\"))"
   ]
  },
  {
   "cell_type": "markdown",
   "id": "eaf4e822",
   "metadata": {},
   "source": [
    "### Key functions to calculate policy relatedness, policy alignment and instituional capacity building potential\n"
   ]
  },
  {
   "cell_type": "code",
   "execution_count": 6,
   "id": "0067eb8a",
   "metadata": {},
   "outputs": [],
   "source": [
    "\n",
    "def calculate_hh_and_weighted_policy_relatedness(M):\n",
    "    \"\"\"\n",
    "    Calculates policy relatedness measures from the M matrix based on \n",
    "    two functional forms introduced by Hidalgo et al 2007 and Zaccharia et al 2015 \n",
    "\n",
    "    Returns\n",
    "    -------\n",
    "    Policy relatedness matrices based on these two different functional forms\n",
    "    \"\"\"      \n",
    "    ii = len(M[:,0]) # number of policies\n",
    "    jj = len(M[0,:]) # number of countries\n",
    "    \n",
    "    # Create relatedness matrix for policies\n",
    "    hh_relatedness_mat = np.zeros((ii,ii))\n",
    "    weighted_relatedness_mat = np.zeros((ii,ii))\n",
    "    \n",
    "    R_i = M.sum(axis = 0)\n",
    "    \n",
    "    # For each policy vector in the M matrix, \n",
    "    # calculate the relatedness to all other policy vectors\n",
    "    for this_policy in range(ii):\n",
    "        this_policy_vec = M[this_policy,:]\n",
    "        for other_policy in range(ii):\n",
    "            other_policy_vec = M[other_policy,:]\n",
    "            overlap = this_policy_vec * other_policy_vec\n",
    "            pwcp_ij = overlap.sum()/float(this_policy_vec.sum())\n",
    "            pwcp_ji = overlap.sum()/float(other_policy_vec.sum())            \n",
    "            \n",
    "            hh_relatedness_mat[this_policy,other_policy] = np.nan_to_num(min(pwcp_ij,pwcp_ji))\n",
    "            \n",
    "    # Now weight the overlap by country policy diversity (1/R_i) - \n",
    "    # such that countries that have introduced more policies are assigned lower weight\n",
    "            overlap_weighted = np.true_divide(overlap,R_i)\n",
    "            w_pwcp_ij = overlap_weighted.sum()/float(this_policy_vec.sum())\n",
    "            w_pwcp_ji = overlap_weighted.sum()/float(other_policy_vec.sum())\n",
    "            \n",
    "            weighted_relatedness_mat[this_policy,other_policy] = np.nan_to_num(min(w_pwcp_ij,w_pwcp_ji))\n",
    "                                    \n",
    "    return hh_relatedness_mat,weighted_relatedness_mat\n",
    "\n",
    "\n",
    "\n",
    "def calculate_country_policy_alignment(relatedness_mat, M_df,M):\n",
    "    \n",
    "    \"\"\"\n",
    "    Calculates country policy alignment measures from the policy relatedness matrix and \n",
    "    countries' historical mix of policies based on the M matrix\n",
    "\n",
    "    Returns\n",
    "    -------\n",
    "    Country Policy Alignment matrix showing each country's relatedness to each climate policy\n",
    "    \"\"\"      \n",
    "    \n",
    "\n",
    "    this_countries_list = list(M_df.index)\n",
    "    this_policies_list = list(M_df.columns)\n",
    "    country_policy_alignment_matrix = np.zeros((len(this_countries_list),len(this_policies_list)))\n",
    "    zd_relatedness_matrix = relatedness_mat\n",
    "    np.fill_diagonal(zd_relatedness_matrix,0)\n",
    "\n",
    "    for c in range(len(this_countries_list)):\n",
    "        for p in range(len(this_policies_list)):\n",
    "            #if the policy exists (which it should)\n",
    "            if zd_relatedness_matrix[:,p].sum()>0:\n",
    "                xi = M[c,:]\n",
    "                relatedness_ij_vect = zd_relatedness_matrix[:,p] #how close is this product to all other products\n",
    "                numerator = np.dot(xi,relatedness_ij_vect)\n",
    "                denominator = relatedness_ij_vect.sum()\n",
    "                country_policy_alignment_matrix[c,p] = np.nan_to_num(numerator/float(denominator))\n",
    "                \n",
    "                \n",
    "    return country_policy_alignment_matrix\n",
    "\n",
    "def calculate_country_institutional_capacity_building_potential(country, N_df, M_df,M):\n",
    "\n",
    "    \"\"\"\n",
    "    Calculates each policy's institutional capacity building potential for a given country. \n",
    "    Only considers policies that a country has no prior experience with. \n",
    "    Policies with greater institutional capacity building potential are likely \n",
    "    to make it easier for countries to introduce climate policies in the future. \n",
    "\n",
    "    Returns\n",
    "    -------\n",
    "    Institutional Capacity Building Potential measures for each policy that a given country\n",
    "    has no prior experience with\n",
    "    \"\"\"      \n",
    "        \n",
    "    Country_num_policies = N_df.transpose()\n",
    "    Country_M_df= M_df.transpose()\n",
    "    Country_policy_alignment_df = weighted_country_policy_alignment_mat_df.transpose()\n",
    "    Country_policy_alignment_df['policy prevalence']= M.sum(axis = 0)\n",
    "\n",
    "    Country_policy_relatedness=weighted_relatedness_mat_policy_df.copy()\n",
    "    # include the specific country's number of policies and RPP for each of the policies\n",
    "    Country_policy_relatedness[\"Number_policies_introduced\"]=Country_num_policies[country]\n",
    "\n",
    "\n",
    "    #calculate institutional capacity building potential\n",
    "    # we want to consider policies that a country has no prior experience with \n",
    "    # - and calculate their average relatedness to all other policies \n",
    "\n",
    "    no_hist = Country_policy_relatedness[Country_policy_relatedness['Number_policies_introduced']<1]\n",
    "    no_hist_av_relatedness_to_other_policies = no_hist[list(no_hist.index)]\n",
    "    no_hist_av_relatedness_to_other_policies['capacity_building_potential']=no_hist_av_relatedness_to_other_policies.mean(axis = 1)\n",
    "\n",
    "    ICBP = no_hist_av_relatedness_to_other_policies[['capacity_building_potential']]\n",
    "    return ICBP"
   ]
  },
  {
   "cell_type": "markdown",
   "id": "6e53cf1c",
   "metadata": {},
   "source": [
    "### Calculate policy relatedness matrices and associated dataframes\n"
   ]
  },
  {
   "cell_type": "code",
   "execution_count": 8,
   "id": "4aa8b60f",
   "metadata": {},
   "outputs": [
    {
     "name": "stderr",
     "output_type": "stream",
     "text": [
      "/var/folders/t0/6smh0nzn0f50n7pt64b0f7xh0000gn/T/ipykernel_86553/2112451553.py:104: SettingWithCopyWarning: \n",
      "A value is trying to be set on a copy of a slice from a DataFrame.\n",
      "Try using .loc[row_indexer,col_indexer] = value instead\n",
      "\n",
      "See the caveats in the documentation: https://pandas.pydata.org/pandas-docs/stable/user_guide/indexing.html#returning-a-view-versus-a-copy\n",
      "  no_hist_av_relatedness_to_other_policies['capacity_building_potential']=no_hist_av_relatedness_to_other_policies.mean(axis = 1)\n"
     ]
    }
   ],
   "source": [
    "\n",
    "# read in M matrix \n",
    "M = np.loadtxt('github_intermediate/M_Nci_matrix.csv', delimiter = ',')\n",
    "M_df = pd.read_csv('github_intermediate/M_Nci_df.csv',index_col=[0])\n",
    "\n",
    "#M = np.loadtxt('github_intermediate/M_RPP_matrix.csv', delimiter = ',')\n",
    "#M_df = pd.read_csv('github_intermediate/M_RPP_df.csv',index_col=[0])\n",
    "\n",
    "#read in N matrix \n",
    "N = np.loadtxt('github_intermediate/N_matrix.csv', delimiter = ',')\n",
    "N_df = pd.DataFrame(N, index = M_df.index, columns = M_df.columns)\n",
    "\n",
    "# read in emissions data\n",
    "emission_df = pd.read_csv('github_intermediate/emission_regression_analysis_df.csv')\n",
    "emission_df2 = emission_df.set_index('Policy')\n",
    "\n",
    "# hh policy relatedness measure\n",
    "hh_relatedness_mat_policy,weighted_relatedness_mat_policy = calculate_hh_and_weighted_policy_relatedness(M.transpose())\n",
    "weighted_relatedness_mat_policy_df = pd.DataFrame(weighted_relatedness_mat_policy, index = M_df.columns,columns = M_df.columns)\n",
    "\n",
    "# weighted policy relatedness measure\n",
    "weighted_country_policy_alignment_mat = calculate_country_policy_alignment(weighted_relatedness_mat_policy,M_df,M)\n",
    "weighted_country_policy_alignment_mat_df = pd.DataFrame(weighted_country_policy_alignment_mat,index = M_df.index, columns = M_df.columns)\n",
    "\n",
    "# Calculate a given country's ICBP - in this case, Viet Nam\n",
    "ICBP = calculate_country_institutional_capacity_building_potential('Viet Nam', N_df, M_df,M)\n",
    "\n"
   ]
  },
  {
   "cell_type": "markdown",
   "id": "13140d2a",
   "metadata": {},
   "source": [
    "### Construct CPFF for given countries"
   ]
  },
  {
   "cell_type": "code",
   "execution_count": 79,
   "id": "075b1b03",
   "metadata": {},
   "outputs": [
    {
     "name": "stderr",
     "output_type": "stream",
     "text": [
      "/var/folders/t0/6smh0nzn0f50n7pt64b0f7xh0000gn/T/ipykernel_38034/3744744758.py:21: SettingWithCopyWarning: \n",
      "A value is trying to be set on a copy of a slice from a DataFrame.\n",
      "Try using .loc[row_indexer,col_indexer] = value instead\n",
      "\n",
      "See the caveats in the documentation: https://pandas.pydata.org/pandas-docs/stable/user_guide/indexing.html#returning-a-view-versus-a-copy\n",
      "  no_hist_av_relatedness_to_other_policies['capacity_building_potential']=no_hist_av_relatedness_to_other_policies.mean(axis = 1)\n"
     ]
    },
    {
     "data": {
      "image/png": "[encoded data removed]",
      "text/plain": [
       "<Figure size 720x648 with 2 Axes>"
      ]
     },
     "metadata": {
      "needs_background": "light"
     },
     "output_type": "display_data"
    }
   ],
   "source": [
    "country = 'Viet Nam'\n",
    "\n",
    "Country_num_policies = N_df.transpose() # Get number of policies country has previously introduced\n",
    "\n",
    "# Munge requisite dataframes\n",
    "Country_M_df= M_df.transpose()\n",
    "Country_policy_alignment_df = weighted_country_policy_alignment_mat_df.transpose()\n",
    "Country_policy_alignment_df['policy prevalence']= M.sum(axis = 0)\n",
    "\n",
    "Country_policy_relatedness=weighted_relatedness_mat_policy_df.copy()\n",
    "\n",
    "# Include the specific country's number of policies and RPP for each of the policies\n",
    "Country_policy_relatedness[\"Number_policies_introduced\"]=Country_num_policies[country]\n",
    "\n",
    "# We want to consider policies that a country has no prior experience with \n",
    "# - and calculate their average relatedness to all other policies \n",
    "\n",
    "no_hist = Country_policy_relatedness[Country_policy_relatedness['Number_policies_introduced']<1]\n",
    "no_hist_av_relatedness_to_other_policies = no_hist[list(no_hist.index)]\n",
    "no_hist_av_relatedness_to_other_policies['capacity_building_potential']=no_hist_av_relatedness_to_other_policies.mean(axis = 1)\n",
    "\n",
    "# Calculate institutional capacity building potential\n",
    "\n",
    "ICBP = no_hist_av_relatedness_to_other_policies[['capacity_building_potential']]\n",
    "\n",
    "#output country's institutional capacity building potential for each policy\n",
    "#ICBP.to_csv('github_outputs/ICBP_'+country+'.csv')\n",
    "\n",
    "# Include other policy variables we want to show on the CPFF \n",
    "\n",
    "CPFF_data_i = ICBP.join(Country_policy_alignment_df[[country,'policy prevalence']])\n",
    "CPFF_data_i.rename(columns = {country:'policy alignment'}, inplace = True)\n",
    "CPFF_data = CPFF_data_i.join(emission_df2[['Num_policies_announced', 'Date_of_first_introduction', 'enough_data',\n",
    "       'statistically_significant', 'emission_reduction_coefficent']])\n",
    "\n",
    "CPFF_sig = CPFF_data[CPFF_data['statistically_significant']>0]\n",
    "CPFF_not_sig= CPFF_data[CPFF_data['statistically_significant']<1]\n",
    "\n",
    "# Plot figure\n",
    "fig = plt.figure(figsize = (10,9))\n",
    "\n",
    "plt.scatter(CPFF_not_sig['policy alignment'],CPFF_not_sig['capacity_building_potential'], s = 150, c ='orange', edgecolor = 'black',  alpha = 0.7, marker = 'o')\n",
    "plt.scatter(CPFF_sig['policy alignment'],CPFF_sig['capacity_building_potential'], s = 150, c = CPFF_sig['emission_reduction_coefficent'],cmap = 'Greens_r', vmin = -0.09,vmax = -0.0, edgecolor = 'black', marker = 'o', alpha = 0.7)\n",
    "\n",
    "cbar = plt.colorbar()\n",
    "cbar.ax.tick_params(labelsize=14)\n",
    "cbar.set_ticks([])\n",
    "\n",
    "plt.xticks(fontsize = 16)\n",
    "plt.yticks(fontsize = 16)\n",
    "\n",
    "plt.gca().xaxis.set_major_formatter(StrMethodFormatter('{x:,.2f}')) # 3 decimal places\n",
    "\n",
    "plt.ylabel('Institutional capacity building potential', fontsize = 18)\n",
    "plt.xlabel('Policy Alignment', fontsize = 18)\n",
    "\n",
    "plt.savefig('github_outputs/CPFF_'+country+'.pdf',dpi = 200,bbox_inches = 'tight')\n",
    "\n"
   ]
  },
  {
   "cell_type": "code",
   "execution_count": null,
   "id": "d0055f93",
   "metadata": {},
   "outputs": [],
   "source": []
  }
 ],
 "metadata": {
  "kernelspec": {
   "display_name": "Python 3 (ipykernel)",
   "language": "python",
   "name": "python3"
  },
  "language_info": {
   "codemirror_mode": {
    "name": "ipython",
    "version": 3
   },
   "file_extension": ".py",
   "mimetype": "text/x-python",
   "name": "python",
   "nbconvert_exporter": "python",
   "pygments_lexer": "ipython3",
   "version": "3.9.7"
  }
 },
 "nbformat": 4,
 "nbformat_minor": 5
}
