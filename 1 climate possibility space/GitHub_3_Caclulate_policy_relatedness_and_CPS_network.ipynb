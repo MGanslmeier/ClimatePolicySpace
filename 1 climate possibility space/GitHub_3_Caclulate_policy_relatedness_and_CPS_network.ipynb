{
 "cells": [
  {
   "cell_type": "code",
   "execution_count": 5,
   "id": "9119a705",
   "metadata": {},
   "outputs": [
    {
     "data": {
      "text/html": [
       "<style>.container { width:100% !important; }</style>"
      ],
      "text/plain": [
       "<IPython.core.display.HTML object>"
      ]
     },
     "metadata": {},
     "output_type": "display_data"
    }
   ],
   "source": [
    "import numpy as np\n",
    "import pandas as pd\n",
    "import csv\n",
    "import matplotlib\n",
    "import matplotlib.pylab as pl\n",
    "import matplotlib.pyplot as plt\n",
    "from matplotlib.ticker import StrMethodFormatter\n",
    "import scipy.stats as sst\n",
    "import networkx as nx\n",
    "\n",
    "%matplotlib inline\n",
    "pd.options.display.max_rows = 500\n",
    "pd.options.display.max_columns = 400\n",
    "from IPython.display import display, HTML\n",
    "display(HTML(\"<style>.container { width:100% !important; }</style>\"))"
   ]
  },
  {
   "cell_type": "markdown",
   "id": "07fdb5ce",
   "metadata": {},
   "source": [
    "### Key function to calculate policy relatedness"
   ]
  },
  {
   "cell_type": "code",
   "execution_count": 15,
   "id": "e6232854",
   "metadata": {},
   "outputs": [],
   "source": [
    "\n",
    "# This code calculates policy relatedness based on two functional forms:\n",
    "# One is based on Hidalgo etl al 2007 (denoted hh_relatedness)\n",
    "# The other is based on Zaccharia et al 2015 (denoted weighted_relatedness), as it weights the Hidalgo 2007 hh_relatedness by the\n",
    "# number of policies countries have introduced\n",
    "\n",
    "def calculate_hh_and_weighted_policy_relatedness(M):\n",
    "    \"\"\"\n",
    "    Calculates policy relatedness measures from the M matrix based on \n",
    "    two functional forms introduced by Hidalgo et al 2007 and Zaccharia et al 2015 \n",
    "\n",
    "    Returns\n",
    "    -------\n",
    "    Policy relatedness matrices based on these two different functional forms\n",
    "    \"\"\"      \n",
    "    ii = len(M[:,0]) # number of policies\n",
    "    jj = len(M[0,:]) # number of countries\n",
    "    \n",
    "    # Create relatedness matrix for policies\n",
    "    hh_relatedness_mat = np.zeros((ii,ii))\n",
    "    weighted_relatedness_mat = np.zeros((ii,ii))\n",
    "    \n",
    "    R_i = M.sum(axis = 0)\n",
    "    \n",
    "    # For each policy vector in the M matrix, \n",
    "    # calculate the relatedness to all other policy vectors\n",
    "    for this_policy in range(ii):\n",
    "        this_policy_vec = M[this_policy,:]\n",
    "        for other_policy in range(ii):\n",
    "            other_policy_vec = M[other_policy,:]\n",
    "            overlap = this_policy_vec * other_policy_vec\n",
    "            pwcp_ij = overlap.sum()/float(this_policy_vec.sum())\n",
    "            pwcp_ji = overlap.sum()/float(other_policy_vec.sum())            \n",
    "            \n",
    "            hh_relatedness_mat[this_policy,other_policy] = np.nan_to_num(min(pwcp_ij,pwcp_ji))\n",
    "            \n",
    "    # Now weight the overlap by country policy diversity (1/R_i) - \n",
    "    # such that countries that have introduced more policies are assigned lower weight\n",
    "            overlap_weighted = np.true_divide(overlap,R_i)\n",
    "            w_pwcp_ij = overlap_weighted.sum()/float(this_policy_vec.sum())\n",
    "            w_pwcp_ji = overlap_weighted.sum()/float(other_policy_vec.sum())\n",
    "            \n",
    "            weighted_relatedness_mat[this_policy,other_policy] = np.nan_to_num(min(w_pwcp_ij,w_pwcp_ji))\n",
    "                                    \n",
    "    return hh_relatedness_mat,weighted_relatedness_mat"
   ]
  },
  {
   "cell_type": "markdown",
   "id": "dd18b432",
   "metadata": {},
   "source": [
    "### Read in data and calculate policy relatedness matrices"
   ]
  },
  {
   "cell_type": "code",
   "execution_count": 16,
   "id": "e11d6114",
   "metadata": {},
   "outputs": [],
   "source": [
    "# Read in N matrix \n",
    "N = np.loadtxt('github_intermediate/N_matrix.csv', delimiter = ',')\n",
    "\n",
    "# Read in M matrix \n",
    "\n",
    "# M matrix based on N_ci\n",
    "#M = np.loadtxt('github_intermediate/M_Nci_matrix.csv', delimiter = ',')\n",
    "#M_df = pd.read_csv('github_intermediate/M_Nci_df.csv',index_col=[0])\n",
    "\n",
    "# M matrix based on RPP\n",
    "M = np.loadtxt('github_intermediate/M_RPP_matrix.csv', delimiter = ',')\n",
    "M_df = pd.read_csv('github_intermediate/M_RPP_df.csv',index_col=[0])\n",
    "\n",
    "# Calculate policy relatedness matrices based on two alternative functional forms\n",
    "hh_relatedness_mat_policy, weighted_relatedness_mat_policy = calculate_hh_and_weighted_policy_relatedness(M.transpose())\n"
   ]
  },
  {
   "cell_type": "markdown",
   "id": "d97ebdf3",
   "metadata": {},
   "source": [
    "## Construct Climate Policy Space Network"
   ]
  },
  {
   "cell_type": "code",
   "execution_count": 17,
   "id": "e953ee4c",
   "metadata": {},
   "outputs": [
    {
     "data": {
      "image/png": "[encoded data removed]",
      "text/plain": [
       "<Figure size 432x288 with 1 Axes>"
      ]
     },
     "metadata": {
      "needs_background": "light"
     },
     "output_type": "display_data"
    },
    {
     "name": "stdout",
     "output_type": "stream",
     "text": [
      "threshold: 0.016849431725201383\n"
     ]
    }
   ],
   "source": [
    "\n",
    "# Invesigate the distribution of relatedness values (here we look at the weighted relatedness measure)\n",
    "relatedness_distribution = []\n",
    "for i in range(len(weighted_relatedness_mat_policy[0,:])):\n",
    "    for j in range(len(weighted_relatedness_mat_policy[0,:])):\n",
    "        if i > j:            \n",
    "            relatedness_distribution.append(weighted_relatedness_mat_policy[i,j])\n",
    "            \n",
    "plt.hist(relatedness_distribution,bins = 50)\n",
    "plt.title('Distribution of policy relatedness')\n",
    "plt.show()   \n",
    "\n",
    "# Select threshold value above which to include edges in CPS network\n",
    "mean = np.mean(relatedness_distribution)\n",
    "sd = np.std(relatedness_distribution)\n",
    "thresh = mean + 0.5*sd\n",
    "print('threshold:',thresh)"
   ]
  },
  {
   "cell_type": "markdown",
   "id": "bf659021",
   "metadata": {},
   "source": [
    "### Key function for calculating network based on maximum spanning tree and adding additional edges greater than the threshold value determined above\n"
   ]
  },
  {
   "cell_type": "code",
   "execution_count": 18,
   "id": "10a0da8f",
   "metadata": {},
   "outputs": [],
   "source": [
    "def create_mst_plus_edges(complete_graph,threshold):\n",
    "    \"\"\"\n",
    "    Constructs Climate Policy Space Network from the policy relatedness matrix \n",
    "    by first creating the maximum spanning tree and then adding edges above a given threshold\n",
    "\n",
    "    Returns\n",
    "    -------\n",
    "    Maximum spanning tree and additional edges\n",
    "    \"\"\"         \n",
    "    \n",
    "    # Zero out the diagonal so we are not including a policy's relatedness to itself\n",
    "    np.fill_diagonal(complete_graph,0)\n",
    "    neg_prox_mat = complete_graph*-1\n",
    "\n",
    "    # Turn this into a graph object\n",
    "    A = nx.from_numpy_matrix(neg_prox_mat)\n",
    "    \n",
    "    # Get the Maximum Spanning Tree (MST)\n",
    "    T = nx.algorithms.minimum_spanning_tree(A)\n",
    "    \n",
    "    print('number of nodes in mst:', T.number_of_nodes())\n",
    "    \n",
    "    # Now include additional eges with weights greater than the given threshold\n",
    "    n = len(complete_graph[0,:])\n",
    "    modified_prox_matrix = np.zeros((n,n))\n",
    "    \n",
    "    # Just put the links that are greater than the threshold in the modified prox matrix\n",
    "    for i in range(n):\n",
    "        for j in range(n):\n",
    "            prox = complete_graph[i,j]\n",
    "            if prox > threshold:\n",
    "                modified_prox_matrix[i,j] = prox\n",
    "    \n",
    "    # Now add these edges to the MST \n",
    "    # (noting that these edges are negative from minimum rather than maximum spanning tree)\n",
    "    new_neg_prox_mat = modified_prox_matrix*-1\n",
    "    New = nx.from_numpy_matrix(new_neg_prox_mat)\n",
    "    new_edges = []\n",
    "    for i in New.edges(data=True):\n",
    "        #if new edges are not in MST, ddd them\n",
    "        if i not in T.edges(data=True):\n",
    "            new_edges.append(i)\n",
    "    print('number new edges: ', len(new_edges))\n",
    "    return T, new_edges\n"
   ]
  },
  {
   "cell_type": "markdown",
   "id": "51109e16",
   "metadata": {},
   "source": [
    "### Calculate maximum spanning tree (MST) and additional edges, and convert this into a dataframe\n",
    "\n"
   ]
  },
  {
   "cell_type": "code",
   "execution_count": 19,
   "id": "0cae5332",
   "metadata": {},
   "outputs": [
    {
     "name": "stdout",
     "output_type": "stream",
     "text": [
      "number of nodes in mst: 54\n",
      "number new edges:  258\n"
     ]
    }
   ],
   "source": [
    "MST, new_edges = create_mst_plus_edges(weighted_relatedness_mat_policy,thresh)\n",
    "\n",
    "# Now create edge list for gephi\n",
    "source = []\n",
    "target = []\n",
    "weight = []\n",
    "type_ = []\n",
    "\n",
    "# First add in MST edges\n",
    "for i in MST.edges(data=True):\n",
    "    source.append(i[0])\n",
    "    target.append(i[1])\n",
    "    weight.append(i[2]['weight']*-1)\n",
    "    type_.append('Undirected')\n",
    "    \n",
    "# Then add in extra edges\n",
    "for i in new_edges:\n",
    "    source.append(i[0])\n",
    "    target.append(i[1])\n",
    "    weight.append(i[2]['weight']*-1)\n",
    "    type_.append('Undirected')\n",
    "\n",
    "# Then create dataframe\n",
    "\n",
    "df_new_edges = pd.DataFrame()\n",
    "df_new_edges['Source']= source\n",
    "df_new_edges['Target'] = target\n",
    "df_new_edges['Weight'] = weight\n",
    "df_new_edges['Type'] = type_"
   ]
  },
  {
   "cell_type": "markdown",
   "id": "518cf23d",
   "metadata": {},
   "source": [
    "### Identify clusters in network"
   ]
  },
  {
   "cell_type": "code",
   "execution_count": 20,
   "id": "b2654da4",
   "metadata": {},
   "outputs": [
    {
     "name": "stderr",
     "output_type": "stream",
     "text": [
      "/var/folders/t0/6smh0nzn0f50n7pt64b0f7xh0000gn/T/ipykernel_85915/2573747046.py:12: UserWarning: color is redundantly defined by the 'color' keyword argument and the fmt string \"bx-\" (-> color='b'). The keyword argument will take precedence.\n",
      "  plt.plot(K, WCSS, 'bx-', color = 'navy')\n"
     ]
    },
    {
     "data": {
      "image/png": "[encoded data removed]",
      "text/plain": [
       "<Figure size 864x432 with 1 Axes>"
      ]
     },
     "metadata": {
      "needs_background": "light"
     },
     "output_type": "display_data"
    }
   ],
   "source": [
    "# K-means\n",
    "\n",
    "from sklearn.cluster import KMeans\n",
    "WCSS = [] # within cluster sum of squares\n",
    "K = range(1,10)\n",
    "for k in K:\n",
    "    kmeanModel = KMeans(n_clusters=k)\n",
    "    kmeanModel.fit(weighted_relatedness_mat_policy)\n",
    "    WCSS.append(kmeanModel.inertia_)\n",
    "    \n",
    "plt.figure(figsize=(12,6))\n",
    "plt.plot(K, WCSS, 'bx-', color = 'navy')\n",
    "plt.xlabel('k',fontsize = 16)\n",
    "plt.ylabel('WCSS', fontsize = 14)\n",
    "plt.yticks(fontsize = 14)\n",
    "plt.xticks(fontsize = 14)\n",
    "plt.title('The Elbow Method showing the optimal k', fontsize = 16)\n",
    "plt.savefig('github_outputs/elbow_method_plot_clusters.jpg',dpi = 200,bbox_inches = 'tight')\n"
   ]
  },
  {
   "cell_type": "code",
   "execution_count": 21,
   "id": "ae3dfee1",
   "metadata": {},
   "outputs": [],
   "source": [
    "# identify clusters based on k = 3, 5 and 8\n",
    "kmeans_embedding_3 = KMeans(n_clusters = 3,random_state=0).fit(weighted_relatedness_mat_policy)\n",
    "kmeans_embedding_5 = KMeans(n_clusters = 5,random_state=0).fit(weighted_relatedness_mat_policy)\n",
    "kmeans_embedding_8 = KMeans(n_clusters = 8,random_state=0).fit(weighted_relatedness_mat_policy)\n",
    "#nl['kmeans_embedding_8_clusters_RCA_weighted_prox_mat']=kmeans_embedding.labels_\n"
   ]
  },
  {
   "cell_type": "markdown",
   "id": "43833e5e",
   "metadata": {},
   "source": [
    "### Construct node list for Climate Policy Space Network"
   ]
  },
  {
   "cell_type": "code",
   "execution_count": 22,
   "id": "76109c27",
   "metadata": {},
   "outputs": [],
   "source": [
    "\n",
    "nl = pd.DataFrame()\n",
    "nl['Id'] = [x for x in range(len(M_df.columns))]\n",
    "nl['Label'] = list(M_df.columns)\n",
    "\n",
    "# Include policy prevalence and adoption history\n",
    "nl['Climate Policy Prevalence']= M.sum(axis = 0)\n",
    "nl['Number of times adopted']= N.sum(axis = 0)\n",
    "\n",
    "# Include clusters\n",
    "nl['kmeans_3_clusters']=kmeans_embedding_3.labels_\n",
    "nl['kmeans_5_clusters']=kmeans_embedding_5.labels_\n",
    "nl['kmeans_8_clusters']=kmeans_embedding_8.labels_\n",
    "\n",
    "# Mean income level associated with policy\n",
    "gdp_cap = pd.read_csv('github_raw/WB_GDP_cap_current_USD.csv')\n",
    "WB_country_data = pd.read_csv('github_raw/WB_country_labels.csv', encoding = 'latin1')\n",
    "\n",
    "gdp1= pd.merge(M_df,WB_country_data, left_on = M_df.index, right_on ='Economy',how = 'left')\n",
    "gdp2 = pd.merge(gdp1, gdp_cap[['Country Code','2019']],left_on = 'Code', right_on = 'Country Code',how = 'left')\n",
    "#drop countries with no gdp data\n",
    "gdp3 = gdp2.dropna(subset = ['2019'])\n",
    "\n",
    "policies = M_df.columns\n",
    "policy_gdp_means = []\n",
    "\n",
    "for p in policies:\n",
    "    policy_vector = gdp3[p]\n",
    "    gdp_vector = gdp3['2019']\n",
    "    numerator = np.dot(policy_vector,gdp_vector)\n",
    "    denominator = policy_vector.sum()\n",
    "    mean_gdp = numerator/float(denominator)\n",
    "    policy_gdp_means.append(mean_gdp)\n",
    "    \n",
    "nl['policy_gdp_mean']=policy_gdp_means\n",
    "\n",
    "# Representation of policy adoption in key income groups\n",
    "\n",
    "ig = list(gdp3['Income group'].unique())\n",
    "\n",
    "for i in ig:\n",
    "    i_country_data = gdp3[gdp3['Income group']==i]\n",
    "    policy_ig_proportion = []\n",
    "    for p in policies:\n",
    "        policy_vector = i_country_data[p]\n",
    "        sum_policies = np.sum(policy_vector)\n",
    "        proportion_policies = sum_policies/float(len(i_country_data[p]))\n",
    "        policy_ig_proportion.append(proportion_policies)\n",
    "    nl[i+'_policy_proportion']=policy_ig_proportion\n",
    " "
   ]
  },
  {
   "cell_type": "code",
   "execution_count": 24,
   "id": "60747842",
   "metadata": {},
   "outputs": [],
   "source": [
    "# Output node and edge list\n",
    "df_new_edges.to_csv('github_outputs/gephi_edgelist_CPS_network_weighted_relatedness_policy_all_years_05sd.csv', index = False)\n",
    "nl.to_csv('github_outputs/gephi_nodelist_CPS_network_weighted_relatedness_policy_all_years_05sd.csv', index = False)"
   ]
  },
  {
   "cell_type": "code",
   "execution_count": null,
   "id": "e04b93a5",
   "metadata": {},
   "outputs": [],
   "source": []
  }
 ],
 "metadata": {
  "kernelspec": {
   "display_name": "Python 3 (ipykernel)",
   "language": "python",
   "name": "python3"
  },
  "language_info": {
   "codemirror_mode": {
    "name": "ipython",
    "version": 3
   },
   "file_extension": ".py",
   "mimetype": "text/x-python",
   "name": "python",
   "nbconvert_exporter": "python",
   "pygments_lexer": "ipython3",
   "version": "3.9.7"
  }
 },
 "nbformat": 4,
 "nbformat_minor": 5
}
